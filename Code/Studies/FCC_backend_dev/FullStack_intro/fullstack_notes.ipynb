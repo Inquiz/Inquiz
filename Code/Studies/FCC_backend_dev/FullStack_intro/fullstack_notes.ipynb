{
 "cells": [
  {
   "cell_type": "markdown",
   "metadata": {},
   "source": [
    "# Every website uses\n",
    "\n",
    "- Html\n",
    "- CSS\n",
    "- Javascript\n"
   ]
  },
  {
   "cell_type": "markdown",
   "metadata": {},
   "source": [
    "JavaScript\n",
    "\n",
    "creating variables\n",
    "\n",
    "- you can use var, const, or let\n",
    "- modern js uses let\n",
    "\n",
    "semicolons are optional in javasript\n",
    "lowerCamelCase is used is convention\n",
    "\n",
    "create an uninitialized variable\n"
   ]
  },
  {
   "cell_type": "code",
   "execution_count": null,
   "metadata": {
    "vscode": {
     "languageId": "javascript"
    }
   },
   "outputs": [],
   "source": [
    "//create and initialize a variable\n",
    "let gold = 50;\n",
    "//create a uninitialized variable\n",
    "let fighting;\n",
    "//create an array\n",
    "let inventory = [\"stick\", \"dagger\", \"sword\"];\n",
    "// lets start the player with just a stick\n"
   ]
  },
  {
   "cell_type": "code",
   "execution_count": null,
   "metadata": {
    "vscode": {
     "languageId": "javascript"
    }
   },
   "outputs": [],
   "source": [
    "// lets start the player with just a stick\n"
   ]
  },
  {
   "cell_type": "code",
   "execution_count": null,
   "metadata": {
    "vscode": {
     "languageId": "javascript"
    }
   },
   "outputs": [],
   "source": [
    "// in order to update html elements on a webpage you need to give html elements to them in your JS code\n",
    "// # is the css selector for id the id is el or button1 in the below ex\n",
    "// these are stored in the variable el and button id\n",
    "let el = document.querySelector(\"#el\");\n",
    "let button1 = document.querySelector(\"#button1\");\n"
   ]
  },
  {
   "cell_type": "code",
   "execution_count": null,
   "metadata": {
    "vscode": {
     "languageId": "javascript"
    }
   },
   "outputs": [],
   "source": [
    "// here is the button we are referencing in the index.html\n",
    "<div id=\"controls\">\n",
    "  <button id=\"button1\">Go to store</button>\n",
    "  <button id=\"button2\">Go to cave</button>\n",
    "  <button id=\"button3\">Fight dragon</button>\n",
    "</div>;\n"
   ]
  },
  {
   "cell_type": "code",
   "execution_count": null,
   "metadata": {
    "vscode": {
     "languageId": "javascript"
    }
   },
   "outputs": [],
   "source": [
    "// we will change let to const as we want to declare button1 as a constant as it should never change\n",
    "const button1 = document.querySelector(\"#button1\");\n"
   ]
  },
  {
   "cell_type": "code",
   "execution_count": null,
   "metadata": {
    "vscode": {
     "languageId": "javascript"
    }
   },
   "outputs": [],
   "source": [
    "// this is how you comment\n",
    "\n",
    "/* this is how \n",
    "you multi-line comment\n",
    "in JS\n",
    "\n",
    "*/\n"
   ]
  },
  {
   "cell_type": "code",
   "execution_count": null,
   "metadata": {
    "vscode": {
     "languageId": "javascript"
    }
   },
   "outputs": [],
   "source": [
    "// this is how you initialize buttons (actions)\n",
    "\n",
    "button.onclick = openProgram;\n",
    "\n",
    "//says on clicking button1 it will run the function goStore (go to store)\n",
    "button1.onclick = goStore;\n"
   ]
  },
  {
   "cell_type": "code",
   "execution_count": null,
   "metadata": {
    "vscode": {
     "languageId": "javascript"
    }
   },
   "outputs": [],
   "source": [
    "//creating a function\n",
    "\n",
    "function functionName() {\n",
    "  //this is where you put your code to run when function is called\n",
    "  console.log(\"Going to store\");\n",
    "}\n"
   ]
  },
  {
   "cell_type": "code",
   "execution_count": null,
   "metadata": {
    "vscode": {
     "languageId": "javascript"
    }
   },
   "outputs": [],
   "source": [
    "// to change the button text\n",
    "button.innerText = \"new text\";\n",
    "\n",
    "/* when the button is clicked, goStore function runs, changing the button text and \n",
    " changes the button function (since it has a new text and should have a new function)\n",
    " changes the text below the buttons to say \"you enter the store\"\n",
    "*/\n",
    "\n",
    "//initialize button\n",
    "button1.onclick = goStore;\n",
    "\n",
    "//create function\n",
    "function goStore() {\n",
    "  button1.innerText = \"Buy 10 health (10 gold)\";\n",
    "  button1.onclick = buyHealth;\n",
    "  text.innerText = \"You enter the store.\";\n",
    "}\n"
   ]
  },
  {
   "cell_type": "code",
   "execution_count": null,
   "metadata": {
    "vscode": {
     "languageId": "javascript"
    }
   },
   "outputs": [],
   "source": [
    "// to use \"\" within a string use \\ to escape the \" character\n",
    "\n",
    "text.innerText =\n",
    "  'You are in the town square. You see a sign that says \"store\" ';\n",
    "\n",
    "// also could just use '' to denote your string ( python trick )\n",
    "text.innerText =\n",
    "  'You are in the town square. You see a sign that says \"store\" ';\n"
   ]
  },
  {
   "cell_type": "code",
   "execution_count": null,
   "metadata": {
    "vscode": {
     "languageId": "javascript"
    }
   },
   "outputs": [],
   "source": [
    "// we see we have repetative code\n",
    "\n",
    "function goTown() {\n",
    "  button1.innerText = \"Buy 10 health (10 gold)\";\n",
    "  button2.innerText = \"Buy weapon (30 gold)\";\n",
    "  button3.innerText = \"Go to town square\";\n",
    "  button1.onclick = buyHealth;\n",
    "  button2.onclick = buyWeapon;\n",
    "  button3.onclick = goTown;\n",
    "  text.innerText =\n",
    "    'You are in the town square. You see a sign that says \"store\" ';\n",
    "}\n",
    "\n",
    "function goStore() {\n",
    "  button1.innerText = \"Buy 10 health (10 gold)\";\n",
    "  button2.innerText = \"Buy weapon (30 gold)\";\n",
    "  button3.innerText = \"Go to town square\";\n",
    "  button1.onclick = buyHealth;\n",
    "  button2.onclick = buyWeapon;\n",
    "  button3.onclick = goTown;\n",
    "  text.innerText = \"You enter the store.\";\n",
    "}\n",
    "\n",
    "// means we should probably have a new function\n",
    "// update function will take a parameter in this case location\n",
    "\n",
    "function update(location) {}\n"
   ]
  },
  {
   "cell_type": "code",
   "execution_count": null,
   "metadata": {
    "vscode": {
     "languageId": "javascript"
    }
   },
   "outputs": [],
   "source": [
    "// arrays can store any types of data including objects\n",
    "// objects are similar to arrays but insead of using indexes to access data\n",
    "// they use objects to access data through properties using key value pairs (like a dictionary)\n",
    "// each object is separated by a comma\n",
    "\n",
    "const arr = [\n",
    "  {\n",
    "    name: \"Quincy Larson\",\n",
    "    \"button text\": [],\n",
    "  },\n",
    "];\n"
   ]
  },
  {
   "cell_type": "code",
   "execution_count": null,
   "metadata": {
    "vscode": {
     "languageId": "javascript"
    }
   },
   "outputs": [],
   "source": [
    "// create an array of locations for all the locations in the game\n",
    "// locations in an array of 2 objects\n",
    "const locations = [\n",
    "  {\n",
    "    name: \"town square\",\n",
    "    \"button text\": [\"go to store\", \"Go to cave.\", \"Fight dragon\"],\n",
    "    \"button functions\": [goStore, goCave, fightDragon],\n",
    "    text: 'You are in the town square. You see a sign that says \"Store.\"',\n",
    "  },\n",
    "  {\n",
    "    name: \"store\",\n",
    "    \"button text\": [\n",
    "      \"Buy 10 health (10 gold)\",\n",
    "      \"Buy weapon (30 gold)\",\n",
    "      \"Go to town square\",\n",
    "    ],\n",
    "    \"button functions\": [buyHealth, buyWeapon, goTown],\n",
    "    text: \"You enter the store.\",\n",
    "  },\n",
    "];\n",
    "// update function will take a parameter in this case location,\n",
    "// thus consolidating goStore and goTown functions\n",
    "\n",
    "function update(location) {\n",
    "  button1.innerText = \"Buy 10 health (10 gold)\";\n",
    "  button2.innerText = \"Buy weapon (30 gold)\";\n",
    "  button3.innerText = \"Go to town square\";\n",
    "  button1.onclick = buyHealth;\n",
    "  button2.onclick = buyWeapon;\n",
    "  button3.onclick = goTown;\n",
    "  text.innerText =\n",
    "    'You are in the town square. You see a sign that says \"store\" ';\n",
    "}\n",
    "// we will pass in the locations array [0] which is the index for \"town square\"\n",
    "function goTown() {\n",
    "  update(locations[0]);\n",
    "}\n"
   ]
  },
  {
   "cell_type": "code",
   "execution_count": null,
   "metadata": {
    "vscode": {
     "languageId": "javascript"
    }
   },
   "outputs": [],
   "source": [
    "const locations = [\n",
    "  {\n",
    "    name: \"town square\",\n",
    "    \"button text\": [\"go to store\", \"Go to cave.\", \"Fight dragon\"],\n",
    "    \"button functions\": [goStore, goCave, fightDragon],\n",
    "    text: 'You are in the town square. You see a sign that says \"Store.\"',\n",
    "  },\n",
    "  {\n",
    "    name: \"store\",\n",
    "    \"button text\": [\n",
    "      \"Buy 10 health (10 gold)\",\n",
    "      \"Buy weapon (30 gold)\",\n",
    "      \"Go to town square\",\n",
    "    ],\n",
    "    \"button functions\": [buyHealth, buyWeapon, goTown],\n",
    "    text: \"You enter the store.\",\n",
    "  },\n",
    "];\n",
    "// with location array defined, we can use that info in other parts of our code\n",
    "\n",
    "function update(location) {\n",
    "  button1.innerText = \"Buy 10 health (10 gold)\";\n",
    "  button2.innerText = \"Buy weapon (30 gold)\";\n",
    "  button3.innerText = \"Go to town square\";\n",
    "  button1.onclick = buyHealth;\n",
    "  button2.onclick = buyWeapon;\n",
    "  button3.onclick = goTown;\n",
    "  text.innerText =\n",
    "    'You are in the town square. You see a sign that says \"store\" ';\n",
    "}\n",
    "// can be changed to:\n",
    "\n",
    "function update(location) {\n",
    "  button1.innerText = location[\"button text\"][0];\n",
    "  button2.innerText = location[\"button text\"][1];\n",
    "  button3.innerText = location[\"button text\"][2];\n",
    "  button1.onclick = location[\"button function\"][0];\n",
    "  button2.onclick = location[\"button function\"][1];\n",
    "  button3.onclick = location[\"button function\"][2];\n",
    "  text.innerText = location.text;\n",
    "}\n",
    "\n",
    "//note location[\"button text\"][0] is pulling the first element from the button text array\n",
    "//which is within the location object [\"button text\"]\n",
    "//you can use dot notation instead of bracket notation when you are using single word key names\n",
    "//like text\n"
   ]
  },
  {
   "cell_type": "code",
   "execution_count": null,
   "metadata": {
    "vscode": {
     "languageId": "javascript"
    }
   },
   "outputs": [],
   "source": [
    "// to add you can use same python trick -= or += instead of count = count + x\n",
    "gold = gold - 10;\n",
    "gold -= 10;\n",
    "\n",
    "// to add just 1\n",
    "gold = gold + 1;\n",
    "gold++;\n"
   ]
  },
  {
   "cell_type": "code",
   "execution_count": null,
   "metadata": {
    "vscode": {
     "languageId": "javascript"
    }
   },
   "outputs": [],
   "source": [
    "//if statements\n",
    "if (condition) {\n",
    "  gold -= 10;\n",
    "  goldText.innerText = gold;\n",
    "}\n",
    "\n",
    "if (gold >= 10) {\n",
    "  gold -= 10;\n",
    "  health += 10;\n",
    "  goldText.innerText = gold;\n",
    "  healthText.innerText = health;\n",
    "}\n"
   ]
  },
  {
   "cell_type": "code",
   "execution_count": null,
   "metadata": {
    "vscode": {
     "languageId": "javascript"
    }
   },
   "outputs": [],
   "source": [
    "// make a weapon array with 4 weapon objects with 2 properties (name and power)\n",
    "// stick = 5pwr\n",
    "// dagger = 30pwr\n",
    "// claw hammer = 50pwr\n",
    "// sword = 100pwr\n",
    "\n",
    "const weapons = [\n",
    "  { name: \"stick\", power: 5 },\n",
    "  { name: \"dagger\", power: 30 },\n",
    "  { name: \"claw hammer\", power: 50 },\n",
    "  { name: \"sword\", power: 100 },\n",
    "];\n"
   ]
  },
  {
   "cell_type": "code",
   "execution_count": null,
   "metadata": {
    "vscode": {
     "languageId": "javascript"
    }
   },
   "outputs": [],
   "source": [
    "//pushing appends the object to the array\n",
    "\n",
    "let inventory = [\"stick\"];\n",
    "\n",
    "inventory.push(\"dagger\");\n"
   ]
  },
  {
   "cell_type": "code",
   "execution_count": null,
   "metadata": {
    "vscode": {
     "languageId": "javascript"
    }
   },
   "outputs": [],
   "source": [
    "// inheritence\n",
    "\n",
    "// using let in this statement limits currentWeapon to this function\n",
    "function sellWeapon() {\n",
    "  if (inventory.length > 1) {\n",
    "    gold += 15;\n",
    "    goldText.innerText = gold;\n",
    "    let currentWeapon;\n",
    "  }\n",
    "}\n",
    "// using var would allow currrentWeapon to be used outside of the if statement\n"
   ]
  },
  {
   "cell_type": "code",
   "execution_count": null,
   "metadata": {
    "vscode": {
     "languageId": "javascript"
    }
   },
   "outputs": [],
   "source": [
    "// shift method\n",
    "\n",
    "// shift method removes the first element from an array and returns the value\n",
    "\n",
    "//let testarr = [\"test\", \"rest\", \"pest\"];\n",
    "let testyarr = [\"bad\", \"dad\", testarr.shift()];\n",
    "\n",
    "console.log(testyarr);\n",
    "// bad, dad, test\n",
    "\n",
    "let testarr = [\"test\", \"rest\", \"pest\"];\n",
    "let testel = testarr.shift();\n",
    "\n",
    "console.log(testel);\n",
    "console.log(testarr);\n",
    "// test\n",
    "// rest, pest\n"
   ]
  },
  {
   "cell_type": "code",
   "execution_count": null,
   "metadata": {
    "vscode": {
     "languageId": "javascript"
    }
   },
   "outputs": [],
   "source": [
    "// switch operator (turnary statement?)\n",
    "\n",
    "if (fighting === 2) {\n",
    "  winGame();\n",
    "} else {\n",
    "  defeatMonster();\n",
    "}\n",
    "// can be written\n",
    "\n",
    "fighting === 2 ? winGame() : defeatMonster();\n"
   ]
  }
 ],
 "metadata": {
  "kernelspec": {
   "display_name": "Python 3",
   "language": "python",
   "name": "python3"
  },
  "language_info": {
   "codemirror_mode": {
    "name": "ipython",
    "version": 3
   },
   "file_extension": ".py",
   "mimetype": "text/x-python",
   "name": "python",
   "nbconvert_exporter": "python",
   "pygments_lexer": "ipython3",
   "version": "3.11.4"
  }
 },
 "nbformat": 4,
 "nbformat_minor": 2
}
