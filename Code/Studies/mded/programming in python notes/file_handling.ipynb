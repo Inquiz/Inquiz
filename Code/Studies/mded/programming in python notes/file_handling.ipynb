{
 "cells": [
  {
   "cell_type": "code",
   "execution_count": null,
   "metadata": {},
   "outputs": [],
   "source": [
    "#relative paths\n",
    "\n",
    "'somefile.txt'\n",
    "'./somefile.txt'\n",
    "\n"
   ]
  }
 ],
 "metadata": {
  "language_info": {
   "name": "python"
  }
 },
 "nbformat": 4,
 "nbformat_minor": 2
}
