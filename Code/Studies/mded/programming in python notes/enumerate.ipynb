{
 "cells": [
  {
   "cell_type": "markdown",
   "metadata": {},
   "source": [
    "## Enumerating a loop creates an array\n",
    "\n",
    "you could also use this as a way to count iterations of a loop as shown below\n"
   ]
  },
  {
   "cell_type": "code",
   "execution_count": 6,
   "metadata": {},
   "outputs": [
    {
     "name": "stdout",
     "output_type": "stream",
     "text": [
      "0 33\n",
      "1 42\n",
      "2 5\n",
      "3 66\n",
      "4 77\n",
      "5 22\n",
      "6 16\n",
      "7 79\n",
      "Number found at position: 8\n",
      "9 62\n",
      "10 78\n",
      "11 43\n",
      "12 88\n",
      "13 39\n",
      "14 53\n",
      "15 67\n",
      "16 89\n",
      "17 11\n",
      "Array: [(0, 33), (1, 42), (2, 5), (3, 66), (4, 77), (5, 22), (6, 16), (7, 79), (8, 36), (9, 62), (10, 78), (11, 43), (12, 88), (13, 39), (14, 53), (15, 67), (16, 89), (17, 11)]\n"
     ]
    }
   ],
   "source": [
    "num_list = [33,42,5,66,77,22,16,79,36,62,78,43,88,39,53,67,89,11]\n",
    "num_array = []\n",
    "for idx, i in enumerate(num_list):\n",
    "    if i == 36:\n",
    "        print(f\"Number found at position: {idx}\")\n",
    "        num_array.append((idx,i))\n",
    "    else:\n",
    "        print(idx,i)\n",
    "        num_array.append((idx,i))\n",
    "\n",
    "print(f\"Array: {num_array}\")"
   ]
  }
 ],
 "metadata": {
  "kernelspec": {
   "display_name": "Python 3",
   "language": "python",
   "name": "python3"
  },
  "language_info": {
   "codemirror_mode": {
    "name": "ipython",
    "version": 3
   },
   "file_extension": ".py",
   "mimetype": "text/x-python",
   "name": "python",
   "nbconvert_exporter": "python",
   "pygments_lexer": "ipython3",
   "version": "3.11.4"
  }
 },
 "nbformat": 4,
 "nbformat_minor": 2
}
