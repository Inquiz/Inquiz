{
 "cells": [
  {
   "cell_type": "markdown",
   "metadata": {},
   "source": [
    "# Error vs Exception\n",
    "\n",
    "## Error\n",
    "    Syntax Error\n",
    "        - Syntax error are usually typos or myspelling\n",
    "\n",
    "\n",
    "## Exception\n",
    "    Exception Errors\n",
    "        - happen during code execution\n",
    "        - need to be handled by the developer\n",
    "        - they need to deal with any potential issues\n",
    "\n",
    "\n",
    "## Exception handling\n",
    "\n",
    "\n"
   ]
  },
  {
   "cell_type": "code",
   "execution_count": 4,
   "metadata": {},
   "outputs": [
    {
     "name": "stdout",
     "output_type": "stream",
     "text": [
      "10.0\n"
     ]
    },
    {
     "ename": "ZeroDivisionError",
     "evalue": "division by zero",
     "output_type": "error",
     "traceback": [
      "\u001b[1;31m---------------------------------------------------------------------------\u001b[0m",
      "\u001b[1;31mZeroDivisionError\u001b[0m                         Traceback (most recent call last)",
      "Cell \u001b[1;32mIn[4], line 7\u001b[0m\n\u001b[0;32m      4\u001b[0m     \u001b[38;5;28;01mreturn\u001b[39;00m a\u001b[38;5;241m/\u001b[39mb\n\u001b[0;32m      6\u001b[0m \u001b[38;5;28mprint\u001b[39m(divide_by(\u001b[38;5;241m40\u001b[39m,\u001b[38;5;241m4\u001b[39m))\n\u001b[1;32m----> 7\u001b[0m \u001b[38;5;28mprint\u001b[39m(\u001b[43mdivide_by\u001b[49m\u001b[43m(\u001b[49m\u001b[38;5;241;43m40\u001b[39;49m\u001b[43m,\u001b[49m\u001b[38;5;241;43m0\u001b[39;49m\u001b[43m)\u001b[49m)\n\u001b[0;32m      9\u001b[0m \u001b[38;5;66;03m## Try and except statements stop the user from seeing the actual exceptions being printed out\u001b[39;00m\n",
      "Cell \u001b[1;32mIn[4], line 4\u001b[0m, in \u001b[0;36mdivide_by\u001b[1;34m(a, b)\u001b[0m\n\u001b[0;32m      3\u001b[0m \u001b[38;5;28;01mdef\u001b[39;00m \u001b[38;5;21mdivide_by\u001b[39m(a,b):\n\u001b[1;32m----> 4\u001b[0m     \u001b[38;5;28;01mreturn\u001b[39;00m \u001b[43ma\u001b[49m\u001b[38;5;241;43m/\u001b[39;49m\u001b[43mb\u001b[49m\n",
      "\u001b[1;31mZeroDivisionError\u001b[0m: division by zero"
     ]
    }
   ],
   "source": [
    "#Exception example\n",
    "\n",
    "def divide_by(a,b):\n",
    "    return a/b\n",
    "\n",
    "print(divide_by(40,4))\n",
    "print(divide_by(40,0))\n",
    "\n",
    "## Try and except statements stop the user from seeing the actual exceptions being printed out"
   ]
  },
  {
   "cell_type": "code",
   "execution_count": null,
   "metadata": {},
   "outputs": [
    {
     "name": "stdout",
     "output_type": "stream",
     "text": [
      "Something went wrong!\n"
     ]
    }
   ],
   "source": [
    "\n",
    "## Try and except statements stop the user from seeing the actual exceptions being printed out\n",
    "def divide_by(a,b):\n",
    "    return a/b\n",
    "\n",
    "try:\n",
    "    ans = divide_by(40,0)   \n",
    "except:\n",
    "    print(\"Something went wrong!\")\n",
    "\n"
   ]
  },
  {
   "cell_type": "code",
   "execution_count": 14,
   "metadata": {},
   "outputs": [
    {
     "name": "stdout",
     "output_type": "stream",
     "text": [
      "Something went wrong! division by zero\n"
     ]
    }
   ],
   "source": [
    "#you can give more detailed explanations by using the base class exceptions built into python\n",
    "def divide_by(a,b):\n",
    "    return a/b\n",
    "\n",
    "try:\n",
    "    ans = divide_by(40,0)   \n",
    "except Exception as e:\n",
    "    print(\"Something went wrong!\", e)"
   ]
  },
  {
   "cell_type": "code",
   "execution_count": 15,
   "metadata": {},
   "outputs": [
    {
     "name": "stdout",
     "output_type": "stream",
     "text": [
      "Something went wrong! <class 'ZeroDivisionError'>\n"
     ]
    }
   ],
   "source": [
    "#more details if you include the exception class\n",
    "\n",
    "def divide_by(a,b):\n",
    "    return a/b\n",
    "\n",
    "try:\n",
    "    ans = divide_by(40,0)   \n",
    "except Exception as e:\n",
    "    print(\"Something went wrong!\", e.__class__)"
   ]
  },
  {
   "cell_type": "code",
   "execution_count": 16,
   "metadata": {},
   "outputs": [
    {
     "name": "stdout",
     "output_type": "stream",
     "text": [
      "Something went wrong! division by zero\n"
     ]
    }
   ],
   "source": [
    "def divide_by(a,b):\n",
    "    return a/b\n",
    "\n",
    "try:\n",
    "    ans = divide_by(40,0)   \n",
    "except ZeroDivisionError as e:\n",
    "    print(\"Something went wrong!\", e)"
   ]
  },
  {
   "cell_type": "code",
   "execution_count": 17,
   "metadata": {},
   "outputs": [
    {
     "name": "stdout",
     "output_type": "stream",
     "text": [
      "we can't divide by zero\n"
     ]
    }
   ],
   "source": [
    "def divide_by(a,b):\n",
    "    return a/b\n",
    "\n",
    "try:\n",
    "    ans = divide_by(40,0)   \n",
    "except ZeroDivisionError as e:\n",
    "    print(\"we can't divide by zero\")\n",
    "except Exception as e:\n",
    "    print(\"Something went wrong!\", e)"
   ]
  },
  {
   "cell_type": "code",
   "execution_count": 23,
   "metadata": {},
   "outputs": [
    {
     "name": "stdout",
     "output_type": "stream",
     "text": [
      "That File ain't no found here\n",
      "[Errno 2] No such file or directory: 'file.txt'\n"
     ]
    }
   ],
   "source": [
    "try:\n",
    "    open(\"file.txt\")\n",
    "except FileNotFoundError as e:\n",
    "    print(\"That File ain't no found here\")\n",
    "    print(e)"
   ]
  }
 ],
 "metadata": {
  "kernelspec": {
   "display_name": "Python 3",
   "language": "python",
   "name": "python3"
  },
  "language_info": {
   "codemirror_mode": {
    "name": "ipython",
    "version": 3
   },
   "file_extension": ".py",
   "mimetype": "text/x-python",
   "name": "python",
   "nbconvert_exporter": "python",
   "pygments_lexer": "ipython3",
   "version": "3.11.4"
  }
 },
 "nbformat": 4,
 "nbformat_minor": 2
}
