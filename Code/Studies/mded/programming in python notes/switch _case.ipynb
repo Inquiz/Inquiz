{
 "cells": [
  {
   "cell_type": "markdown",
   "metadata": {},
   "source": [
    "## Switch Statement\n",
    "\n",
    "we can use the match keyword instead of the if/ elif for cleaner code\n"
   ]
  },
  {
   "cell_type": "code",
   "execution_count": null,
   "metadata": {},
   "outputs": [],
   "source": [
    "http_status = 200\n",
    "\n",
    "#using if and elif statements\n",
    "if http_status == 200 or http_status == 201:\n",
    "    print(\"Success\")\n",
    "elif http_status == 400:\n",
    "    print(\"Bad request\")\n",
    "elif http_status == 404:\n",
    "    print('Not Found')\n",
    "elif http_status ==500 or http_status ==501:\n",
    "    print('Server Error')\n",
    "else:\n",
    "    print('Unknown')\n",
    "\n",
    "#using the match statement\n",
    "\n",
    "match http_status:\n",
    "    case 200 | 201:\n",
    "        print('Success')\n",
    "    case 400:\n",
    "        print(\"Bad request\")\n",
    "    case 404:\n",
    "        print('Not Found')\n",
    "    case 500 | 501:\n",
    "        print('Server Error')\n",
    "    case _:\n",
    "        print('Unknown')\n",
    "        \n",
    "        \n"
   ]
  }
 ],
 "metadata": {
  "kernelspec": {
   "display_name": "Python 3",
   "language": "python",
   "name": "python3"
  },
  "language_info": {
   "name": "python",
   "version": "3.11.4"
  }
 },
 "nbformat": 4,
 "nbformat_minor": 2
}
