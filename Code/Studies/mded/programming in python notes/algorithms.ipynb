{
 "cells": [
  {
   "cell_type": "markdown",
   "metadata": {},
   "source": [
    "## algorithms\n",
    "\n",
    "Input\n",
    "\n",
    "Method\n",
    "\n",
    "Output\n"
   ]
  },
  {
   "cell_type": "code",
   "execution_count": 31,
   "metadata": {},
   "outputs": [
    {
     "name": "stdout",
     "output_type": "stream",
     "text": [
      "True\n"
     ]
    }
   ],
   "source": [
    "#algorithm for Palindrome\n",
    "\n",
    "# pword = 'racecar'\n",
    "\n",
    "#algorithm is a series of steps to solve a problem\n",
    "\n",
    "# thinking about the problem\n",
    "# print(str[0])\n",
    "# print(str[-1])\n",
    "\n",
    "# this is effectively what I want to check\n",
    "# [0] == [6]\n",
    "# [1] == [-2]\n",
    "# [2] == [-3]\n",
    "\n",
    "pword = 'racecar'\n",
    "\n",
    "def isPalindrome(word):\n",
    "    #startIndex = 0\n",
    "    endIndex = -1\n",
    "    \n",
    "    #iterate through the string index\n",
    "    #you could check if each is true or it would be faster if you look for false\n",
    "    for x in word:\n",
    "        if x != word[endIndex]:\n",
    "            print(\"x:\",x)\n",
    "            print(\"word -1:\",word[endIndex])\n",
    "            return False\n",
    "        endIndex -= 1       \n",
    "    return True\n",
    "\n",
    "print(isPalindrome(pword))\n",
    "\n",
    "# this is the awful code that meta gave...\n",
    "# def isPalindrome(str):\n",
    "#     startIndex = 0\n",
    "#     endIndex = len(str) - 1\n",
    "    \n",
    "#     for x in str:\n",
    "#         if str[startIndex]  !=str[endIndex]:\n",
    "#             return False\n",
    "#     return True\n",
    "\n",
    "# print(isPalindrome('racecar'))\n",
    "\n",
    "\n"
   ]
  },
  {
   "cell_type": "markdown",
   "metadata": {},
   "source": [
    "An algorithm is a set of instructions that is completed in a step-by-step way to solve a particular problem. But how do you go about writing one from scratch? There are different approaches to this. Some people like to write pseudocode, English-like syntax that resembles code, to explain the problem in a series of steps. Another approach is to use a flow chart that provides a graphical representation of the series of steps. The flow chart goes through the logical flow of the algorithm and shows the different decisions that need to be made in order to solve it.\n",
    "\n",
    "Say you want to create an algorithm to determine how many food order tickets are in the queue to the kitchen on the rail board in a restaurant. If you had to do it without a computer you would just count the number of slips and get the total number of tickets. In code, it can be quite similar. Let's create some pseudocode to represent this.\n",
    "let T = 0\n",
    "\n",
    "    for each ticket on rail\n",
    "        Set T = T + 1\n",
    "\n",
    "    Return T\n",
    "\n",
    "The pseudocode starts at 0 and then it checks to see how many tickets are on the rail. If a ticket is found it will then increase the counter by 1. And finally, it will return the total count.\n",
    "\n",
    "One aspect of writing an algorithm is how efficient it is. This is referred to as optimizing the code. If I want to optimize the code above I need to look at how I can make it get to the answer faster. In the physical world, I could instead of counting one by one, count two tickets at a time. How can I represent this in my pseudocode? I just have to change the increment from 1 to 2.\n",
    "let T = 0\n",
    "\n",
    "for each pair of ticket on rail\n",
    "Set T = T + 2\n",
    "\n",
    "Return T\n",
    "\n",
    "This is a pretty easy optimization, but will it work in all scenarios? What happens, for example, if there are three orders on the rail? The code would work as follows:\n",
    "\n",
    "    Tickets = 0\n",
    "\n",
    "    Each pair = 1\n",
    "\n",
    "    Increment counter by 2\n",
    "\n",
    "    Return 2\n",
    "\n",
    "This code is buggy. It does not account for the single ticket on the rail and only returns 2. I can fix the code by adding a condition to handle this edge case.\n",
    "let T = 0\n",
    "\n",
    "    for each pair of ticket on rail\n",
    "        Set T = T + 2\n",
    "\n",
    "    if 1 ticket remains then\n",
    "        Set T = T + 1\n",
    "\n",
    "    Return T\n",
    "\n",
    "Let's check the code to see if it meets the requirements:\n",
    "\n",
    "    Tickets = 0\n",
    "\n",
    "    Each pair = 1\n",
    "\n",
    "    Increment counter by 2\n",
    "\n",
    "    Check for any single tickets\n",
    "\n",
    "    Increment counter by 1\n",
    "\n",
    "    Return 3\n",
    "\n",
    "Yes! The code works and it can handle the edge case. Algorithms are designed to solve problems but they should also be efficient. I needed to change my code to make sure it works as expected.\n",
    "\n",
    "There are many different types of algorithms that have been designed to solve all kinds of different types of problems in computer science. When writing an algorithm, it can be solved in many different ways and each can have its own pros and cons.\n",
    "Recursion\n",
    "\n",
    "Recursion refers to a method or a function that will call itself. It is used to resolve problems by breaking the problem down into sub-problems. Let us take a look at some of the most popular types of recursive algorithms.\n",
    "Divide and conquer\n",
    "\n",
    "This consists of two parts. The first is breaking the problem down into smaller sub-problems and the second is solving the final solution.\n",
    "Dynamic programming\n",
    "\n",
    "This is mainly used for optimization problems. It is similar to the divide and conquer algorithm in that it splits the problems into sub-problems.\n",
    "Greedy algorithm\n",
    "\n",
    "This one finds the best solution in each and every step instead of approaching optimization in a global way.\n"
   ]
  },
  {
   "cell_type": "markdown",
   "metadata": {},
   "source": [
    "## Algorithmic complexity\n",
    "\n",
    "refactoring is rewriting the code to make it more efficient\n",
    "\n",
    "how to make code better:\n",
    "code is measured by time and space\n",
    "\n",
    "time\n",
    "how fast the code runs\n",
    "space\n",
    "how much memory it uses\n",
    "\n",
    "Big O notation has a scale from horrible to excellent\n",
    "\n",
    "Constant time\n",
    "\n",
    "- will run at the same time and space despite size.\n",
    "- dictionary - has a key which points directly to the value - does not require iterations to find it\n",
    "  Linear time algorithm\n",
    "- the bigger the range the bigger the run time\n",
    "  - for x in range(100):\n",
    "    - print(x)\n",
    "\n",
    "Logarithmic time\n",
    "\n",
    "- refers to the number of running time of the input against the number of operations\n"
   ]
  },
  {
   "cell_type": "code",
   "execution_count": 65,
   "metadata": {},
   "outputs": [
    {
     "name": "stdout",
     "output_type": "stream",
     "text": [
      "Total Iterations: 99999999\n"
     ]
    },
    {
     "data": {
      "text/plain": [
       "99999999"
      ]
     },
     "execution_count": 65,
     "metadata": {},
     "output_type": "execute_result"
    }
   ],
   "source": [
    "#linear time\n",
    "\n",
    "def find_num(num):\n",
    "    count = 0\n",
    "    for x in range(100000000):\n",
    "        if x == num:\n",
    "            print(\"Total Iterations:\", count)\n",
    "            return x\n",
    "        count += 1\n",
    "\n",
    "find_num(99999999)"
   ]
  },
  {
   "cell_type": "code",
   "execution_count": 67,
   "metadata": {},
   "outputs": [
    {
     "name": "stdout",
     "output_type": "stream",
     "text": [
      "Iterations: 27\n",
      "99999999\n"
     ]
    }
   ],
   "source": [
    "def find_number_log(target):\n",
    "    iterations = 0\n",
    "    x = range(100000000)\n",
    "    left = 0\n",
    "    right = len(x) - 1\n",
    "\n",
    "    while left <= right:\n",
    "        iterations += 1\n",
    "        middle = (left + right) // 2\n",
    "        isNumber = x[middle]\n",
    "\n",
    "        if target == isNumber:\n",
    "            print('Iterations:', iterations)\n",
    "            return middle\n",
    "        elif target < isNumber:\n",
    "            right = middle - 1\n",
    "        else:\n",
    "            left = middle + 1\n",
    "\n",
    "    return -1\n",
    "\n",
    "print(find_number_log(99999999))"
   ]
  }
 ],
 "metadata": {
  "kernelspec": {
   "display_name": "Python 3",
   "language": "python",
   "name": "python3"
  },
  "language_info": {
   "codemirror_mode": {
    "name": "ipython",
    "version": 3
   },
   "file_extension": ".py",
   "mimetype": "text/x-python",
   "name": "python",
   "nbconvert_exporter": "python",
   "pygments_lexer": "ipython3",
   "version": "3.11.4"
  }
 },
 "nbformat": 4,
 "nbformat_minor": 2
}
