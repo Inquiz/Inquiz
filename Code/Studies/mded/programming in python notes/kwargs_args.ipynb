{
 "cells": [
  {
   "cell_type": "markdown",
   "metadata": {},
   "source": [
    "## kwargs and args  \n",
    "\n",
    "kwargs =  keyword arguments\n",
    "\n",
    "args = arguments"
   ]
  },
  {
   "cell_type": "code",
   "execution_count": 1,
   "metadata": {},
   "outputs": [
    {
     "name": "stdout",
     "output_type": "stream",
     "text": [
      "9\n"
     ]
    },
    {
     "ename": "TypeError",
     "evalue": "sum_of() takes 2 positional arguments but 3 were given",
     "output_type": "error",
     "traceback": [
      "\u001b[1;31m---------------------------------------------------------------------------\u001b[0m",
      "\u001b[1;31mTypeError\u001b[0m                                 Traceback (most recent call last)",
      "Cell \u001b[1;32mIn[1], line 5\u001b[0m\n\u001b[0;32m      2\u001b[0m     \u001b[38;5;28;01mreturn\u001b[39;00m a\u001b[38;5;241m+\u001b[39mb\n\u001b[0;32m      4\u001b[0m \u001b[38;5;28mprint\u001b[39m(sum_of(\u001b[38;5;241m4\u001b[39m,\u001b[38;5;241m5\u001b[39m))\n\u001b[1;32m----> 5\u001b[0m \u001b[38;5;28mprint\u001b[39m(\u001b[43msum_of\u001b[49m\u001b[43m(\u001b[49m\u001b[38;5;241;43m2\u001b[39;49m\u001b[43m,\u001b[49m\u001b[38;5;241;43m4\u001b[39;49m\u001b[43m,\u001b[49m\u001b[38;5;241;43m5\u001b[39;49m\u001b[43m)\u001b[49m) \u001b[38;5;66;03m#will throw error because there are too many arguments\u001b[39;00m\n",
      "\u001b[1;31mTypeError\u001b[0m: sum_of() takes 2 positional arguments but 3 were given"
     ]
    }
   ],
   "source": [
    "def sum_of(a,b):\n",
    "    return a+b\n",
    "\n",
    "print(sum_of(4,5))\n",
    "print(sum_of(2,4,5)) #will throw error because there are too many arguments"
   ]
  },
  {
   "cell_type": "code",
   "execution_count": 2,
   "metadata": {},
   "outputs": [
    {
     "name": "stdout",
     "output_type": "stream",
     "text": [
      "15\n"
     ]
    }
   ],
   "source": [
    "#we can remedy this by adding *args which will allow n number of args\n",
    "\n",
    "def sum_of(*args):\n",
    "    sum = 0\n",
    "    #now we can write a loop that accounts for any number of args\n",
    "    for x in args:\n",
    "        sum += x\n",
    "    return sum\n",
    "\n",
    "print(sum_of(4,5,6))"
   ]
  },
  {
   "cell_type": "code",
   "execution_count": 3,
   "metadata": {},
   "outputs": [
    {
     "name": "stdout",
     "output_type": "stream",
     "text": [
      "15\n"
     ]
    }
   ],
   "source": [
    "#the syntax is actually * and ** though it is convention to use *args and **kwargs\n",
    "#think if we were passing ImageDraw(\"img.png\", font=\"helvetica\")\n",
    "def sumthing(*nums):\n",
    "    sum = 0\n",
    "    for x in nums:\n",
    "        sum += x\n",
    "    return sum\n",
    "\n",
    "print(sumthing(4,5,6))"
   ]
  },
  {
   "cell_type": "code",
   "execution_count": 7,
   "metadata": {},
   "outputs": [
    {
     "name": "stdout",
     "output_type": "stream",
     "text": [
      "first == Geeks\n",
      "mid == for\n",
      "last == Geeks\n"
     ]
    }
   ],
   "source": [
    "\n",
    "#keyword args are used for passing dictionary key value pairs\n",
    "def myFun(**kwargs):\n",
    "    for key, value in kwargs.items():\n",
    "        print(\"%s == %s\" % (key, value))\n",
    " \n",
    " \n",
    "# Driver code\n",
    "myFun(first='Geeks', mid='for', last='Geeks')"
   ]
  },
  {
   "cell_type": "code",
   "execution_count": 8,
   "metadata": {},
   "outputs": [
    {
     "name": "stdout",
     "output_type": "stream",
     "text": [
      "10.53\n"
     ]
    }
   ],
   "source": [
    "def sumthing(**kwargs):\n",
    "    sum = 0\n",
    "    for k,v in kwargs.items():\n",
    "        sum += v\n",
    "    return round(sum,2)\n",
    "\n",
    "print(sumthing(coffee=2.99, cake=4.55, juice=2.99))"
   ]
  },
  {
   "cell_type": "code",
   "execution_count": 14,
   "metadata": {},
   "outputs": [
    {
     "name": "stdout",
     "output_type": "stream",
     "text": [
      "coffee  $2.99\n",
      "cake  $5.44\n",
      "juice  $2.99\n",
      "total  $11.42\n"
     ]
    }
   ],
   "source": [
    "\n",
    "def get_receipt(**kwargs):\n",
    "    receipt = {}\n",
    "    sum = 0\n",
    "    for k,v in kwargs.items():\n",
    "        sum += v\n",
    "        receipt[k] = v\n",
    "    receipt['total'] = round(sum,2)\n",
    "    return receipt\n",
    "\n",
    "receipt = get_receipt(coffee=2.99, cake=5.44, juice=2.99)\n",
    "## print the receipt\n",
    "for k,v in receipt.items():\n",
    "    print(k,f\" ${v}\")\n",
    "        "
   ]
  }
 ],
 "metadata": {
  "kernelspec": {
   "display_name": "Python 3",
   "language": "python",
   "name": "python3"
  },
  "language_info": {
   "codemirror_mode": {
    "name": "ipython",
    "version": 3
   },
   "file_extension": ".py",
   "mimetype": "text/x-python",
   "name": "python",
   "nbconvert_exporter": "python",
   "pygments_lexer": "ipython3",
   "version": "3.11.4"
  }
 },
 "nbformat": 4,
 "nbformat_minor": 2
}
